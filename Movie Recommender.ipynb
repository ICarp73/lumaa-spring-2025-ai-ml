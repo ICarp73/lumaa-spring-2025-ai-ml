{
 "cells": [
  {
   "cell_type": "code",
   "execution_count": 1,
   "id": "1146c702",
   "metadata": {},
   "outputs": [
    {
     "name": "stderr",
     "output_type": "stream",
     "text": [
      "[nltk_data] Downloading package punkt to\n",
      "[nltk_data]     C:\\Users\\isaac\\AppData\\Roaming\\nltk_data...\n",
      "[nltk_data]   Package punkt is already up-to-date!\n",
      "[nltk_data] Downloading package punkt_tab to\n",
      "[nltk_data]     C:\\Users\\isaac\\AppData\\Roaming\\nltk_data...\n",
      "[nltk_data]   Package punkt_tab is already up-to-date!\n",
      "[nltk_data] Downloading package wordnet to\n",
      "[nltk_data]     C:\\Users\\isaac\\AppData\\Roaming\\nltk_data...\n",
      "[nltk_data]   Package wordnet is already up-to-date!\n",
      "[nltk_data] Downloading package stopwords to\n",
      "[nltk_data]     C:\\Users\\isaac\\AppData\\Roaming\\nltk_data...\n",
      "[nltk_data]   Package stopwords is already up-to-date!\n"
     ]
    },
    {
     "data": {
      "text/plain": [
       "True"
      ]
     },
     "execution_count": 1,
     "metadata": {},
     "output_type": "execute_result"
    }
   ],
   "source": [
    "#import all necessary modules and download necessary packages\n",
    "import csv\n",
    "import pandas as pd\n",
    "from sklearn.feature_extraction.text import TfidfVectorizer\n",
    "import nltk\n",
    "import re\n",
    "from nltk.corpus import stopwords\n",
    "from nltk.stem import WordNetLemmatizer\n",
    "from nltk.tokenize import word_tokenize\n",
    "from sklearn.metrics.pairwise import cosine_similarity\n",
    "nltk.download('punkt')\n",
    "nltk.download('punkt_tab')\n",
    "nltk.download('wordnet')\n",
    "nltk.download('stopwords')"
   ]
  },
  {
   "cell_type": "code",
   "execution_count": 2,
   "id": "9cb55163",
   "metadata": {
    "scrolled": true
   },
   "outputs": [
    {
     "data": {
      "text/html": [
       "<div>\n",
       "<style scoped>\n",
       "    .dataframe tbody tr th:only-of-type {\n",
       "        vertical-align: middle;\n",
       "    }\n",
       "\n",
       "    .dataframe tbody tr th {\n",
       "        vertical-align: top;\n",
       "    }\n",
       "\n",
       "    .dataframe thead th {\n",
       "        text-align: right;\n",
       "    }\n",
       "</style>\n",
       "<table border=\"1\" class=\"dataframe\">\n",
       "  <thead>\n",
       "    <tr style=\"text-align: right;\">\n",
       "      <th></th>\n",
       "      <th>imdb_id</th>\n",
       "      <th>title</th>\n",
       "      <th>plot_synopsis</th>\n",
       "      <th>tags</th>\n",
       "      <th>split</th>\n",
       "      <th>synopsis_source</th>\n",
       "    </tr>\n",
       "  </thead>\n",
       "  <tbody>\n",
       "    <tr>\n",
       "      <th>0</th>\n",
       "      <td>tt0057603</td>\n",
       "      <td>I tre volti della paura</td>\n",
       "      <td>Note: this synopsis is for the orginal Italian...</td>\n",
       "      <td>cult, horror, gothic, murder, atmospheric</td>\n",
       "      <td>train</td>\n",
       "      <td>imdb</td>\n",
       "    </tr>\n",
       "    <tr>\n",
       "      <th>1</th>\n",
       "      <td>tt1733125</td>\n",
       "      <td>Dungeons &amp; Dragons: The Book of Vile Darkness</td>\n",
       "      <td>Two thousand years ago, Nhagruul the Foul, a s...</td>\n",
       "      <td>violence</td>\n",
       "      <td>train</td>\n",
       "      <td>imdb</td>\n",
       "    </tr>\n",
       "    <tr>\n",
       "      <th>2</th>\n",
       "      <td>tt0033045</td>\n",
       "      <td>The Shop Around the Corner</td>\n",
       "      <td>Matuschek's, a gift store in Budapest, is the ...</td>\n",
       "      <td>romantic</td>\n",
       "      <td>test</td>\n",
       "      <td>imdb</td>\n",
       "    </tr>\n",
       "    <tr>\n",
       "      <th>3</th>\n",
       "      <td>tt0113862</td>\n",
       "      <td>Mr. Holland's Opus</td>\n",
       "      <td>Glenn Holland, not a morning person by anyone'...</td>\n",
       "      <td>inspiring, romantic, stupid, feel-good</td>\n",
       "      <td>train</td>\n",
       "      <td>imdb</td>\n",
       "    </tr>\n",
       "    <tr>\n",
       "      <th>4</th>\n",
       "      <td>tt0086250</td>\n",
       "      <td>Scarface</td>\n",
       "      <td>In May 1980, a Cuban man named Tony Montana (A...</td>\n",
       "      <td>cruelty, murder, dramatic, cult, violence, atm...</td>\n",
       "      <td>val</td>\n",
       "      <td>imdb</td>\n",
       "    </tr>\n",
       "  </tbody>\n",
       "</table>\n",
       "</div>"
      ],
      "text/plain": [
       "     imdb_id                                          title  \\\n",
       "0  tt0057603                        I tre volti della paura   \n",
       "1  tt1733125  Dungeons & Dragons: The Book of Vile Darkness   \n",
       "2  tt0033045                     The Shop Around the Corner   \n",
       "3  tt0113862                             Mr. Holland's Opus   \n",
       "4  tt0086250                                       Scarface   \n",
       "\n",
       "                                       plot_synopsis  \\\n",
       "0  Note: this synopsis is for the orginal Italian...   \n",
       "1  Two thousand years ago, Nhagruul the Foul, a s...   \n",
       "2  Matuschek's, a gift store in Budapest, is the ...   \n",
       "3  Glenn Holland, not a morning person by anyone'...   \n",
       "4  In May 1980, a Cuban man named Tony Montana (A...   \n",
       "\n",
       "                                                tags  split synopsis_source  \n",
       "0          cult, horror, gothic, murder, atmospheric  train            imdb  \n",
       "1                                           violence  train            imdb  \n",
       "2                                           romantic   test            imdb  \n",
       "3             inspiring, romantic, stupid, feel-good  train            imdb  \n",
       "4  cruelty, murder, dramatic, cult, violence, atm...    val            imdb  "
      ]
     },
     "execution_count": 2,
     "metadata": {},
     "output_type": "execute_result"
    }
   ],
   "source": [
    "def load_data(rows = 150, file = 'mpst_full_data.csv'):\n",
    "    '''\n",
    "    A function to load the data. Takes an input for the amount of rows it returns, as well as the file you wish to access.\n",
    "    '''\n",
    "    counter = 0\n",
    "    loaded_data = []\n",
    "    \n",
    "    #The csv file is quite large, so to save memory we only load in one row at a time.\n",
    "    with open(file, 'r', encoding='utf-8') as f:\n",
    "        reader = csv.DictReader(f)\n",
    "        for row in reader:\n",
    "            loaded_data.append(row)\n",
    "            counter +=1\n",
    "            if counter == rows:\n",
    "                break\n",
    "    \n",
    "    movies = pd.DataFrame.from_dict(loaded_data)\n",
    "    del loaded_data\n",
    "    return movies\n",
    "\n",
    "movies = load_data()\n",
    "movies.head(5)"
   ]
  },
  {
   "cell_type": "code",
   "execution_count": 3,
   "id": "8c4b2d5d",
   "metadata": {},
   "outputs": [
    {
     "name": "stderr",
     "output_type": "stream",
     "text": [
      "<>:12: SyntaxWarning: invalid escape sequence '\\-'\n",
      "<>:12: SyntaxWarning: invalid escape sequence '\\-'\n",
      "C:\\Users\\isaac\\AppData\\Local\\Temp\\ipykernel_3084\\778654397.py:12: SyntaxWarning: invalid escape sequence '\\-'\n",
      "  translation_table = str.maketrans(\"\", \"\", \"!.,?/;:'=\\-()\")\n"
     ]
    }
   ],
   "source": [
    "#Here I combine the plot_synopsis and tags columns to allow the model to use both simultaneously,\n",
    "#which will increase predictive power. I then remove unnecessary columns to save space.\n",
    "\n",
    "movies['tags'] = movies.plot_synopsis + movies.tags.apply(lambda x: ' ' + x)\n",
    "movies.drop(columns=['split', 'synopsis_source', 'plot_synopsis'], inplace=True)\n",
    "\n",
    "def remove_punctuation(text):\n",
    "    '''\n",
    "    A function to remove all forms of punctuation from a text.\n",
    "    '''\n",
    "    \n",
    "    translation_table = str.maketrans(\"\", \"\", \"!.,?/;:'=\\-()\")\n",
    "    clean_text = text.translate(translation_table)\n",
    "    clean_text = clean_text.replace('\"', '').lower()\n",
    "    clean_text = clean_text.replace(\"\\n\", '')\n",
    "    return clean_text\n",
    "\n",
    "def clean(text):\n",
    "    '''\n",
    "    A function to clean a text input of punctuation and stopwords (common english words of no predictive value).\n",
    "    The function them lemmatizes the remaining words.\n",
    "    '''\n",
    "    \n",
    "    if not isinstance(text, str):\n",
    "        return \"\"\n",
    "\n",
    "    text = text.lower()\n",
    "    text = remove_punctuation(text)\n",
    "    words = word_tokenize(text)\n",
    "    stop_words = set(stopwords.words('english'))\n",
    "    words = [word for word in words if word not in stop_words]\n",
    "    lemmatizer = WordNetLemmatizer()\n",
    "    words = [lemmatizer.lemmatize(word) for word in words]\n",
    "    text = ' '.join(words)\n",
    "    return text\n",
    "\n",
    "movies['clean_tags'] = movies.tags.apply(clean)"
   ]
  },
  {
   "cell_type": "code",
   "execution_count": 4,
   "id": "24f8f6ae",
   "metadata": {},
   "outputs": [],
   "source": [
    "tv = TfidfVectorizer(max_features=5000, stop_words='english')\n",
    "\n",
    "def recommend(num_recommendations=5, movies=movies):\n",
    "    '''\n",
    "    A function that returns the number of movie recommendations inputted given the inputted dataset.\n",
    "    Processes and cleans a user movie preference input, and adds that to the movie descriptions pd.Series.\n",
    "    Vectorizes the description and computes the similarity matrix. \n",
    "    Returns the recommended movies and their respective scores.\n",
    "    '''\n",
    "    \n",
    "    prompt = input('Please type a short description of your movie preferences:\\n')\n",
    "    clean_prompt = clean(prompt)\n",
    "    descriptions = pd.concat([movies.clean_tags, pd.Series([clean_prompt], index=[len(movies.clean_tags)])])\n",
    "    index = len(descriptions)-1\n",
    "    \n",
    "    vector = tv.fit_transform(descriptions).toarray()\n",
    "    similarity = cosine_similarity(vector)\n",
    "    \n",
    "    distance = sorted(list(enumerate(similarity[index])), reverse=True, key=lambda vector: vector[1])\n",
    "    recommendeds = []\n",
    "    scores = []\n",
    "    for i in distance[1:num_recommendations+1]:\n",
    "        recommendeds.append(movies.iloc[i[0]].title)\n",
    "        scores.append(i[1])\n",
    "        \n",
    "    return recommendeds, scores\n",
    "\n",
    "def display_recommendations(num_recommendations=5, movies=movies):\n",
    "    '''\n",
    "    A function that displays the output of recommend() in more user friendly manner.\n",
    "    '''\n",
    "    \n",
    "    recommends, scores = recommend(num_recommendations, movies)\n",
    "    assert num_recommendations >= 1\n",
    "    \n",
    "    print()\n",
    "    for i in range(len(recommends)):\n",
    "        print('Recommendation ', str(i+1)+ ':', recommends[i]+',', ' '*(30-len(recommends[i])), 'Score:', round(scores[i], 3))"
   ]
  },
  {
   "cell_type": "code",
   "execution_count": 5,
   "id": "9135c9b2",
   "metadata": {},
   "outputs": [
    {
     "name": "stdout",
     "output_type": "stream",
     "text": [
      "Please type a short description of your movie preferences:\n",
      "I like action movies set in space, with a comedic twist.\n",
      "\n",
      "Recommendation  1: Guardians of the Galaxy,         Score: 0.043\n",
      "Recommendation  2: Alien,                           Score: 0.032\n",
      "Recommendation  3: Invasion of the Bee Girls,       Score: 0.031\n",
      "Recommendation  4: The Hamiltons,                   Score: 0.029\n",
      "Recommendation  5: Antares,                         Score: 0.026\n"
     ]
    }
   ],
   "source": [
    "display_recommendations()"
   ]
  },
  {
   "cell_type": "code",
   "execution_count": 6,
   "id": "2bcafdf1",
   "metadata": {},
   "outputs": [
    {
     "name": "stdout",
     "output_type": "stream",
     "text": [
      "Please type a short description of your movie preferences:\n",
      "My favorite movie is the Amazing Spiderman.\n",
      "\n",
      "Recommendation  1: The Amazing Spider-Man,          Score: 0.221\n",
      "Recommendation  2: 14 Going on 30,                  Score: 0.024\n",
      "Recommendation  3: Targets,                         Score: 0.021\n"
     ]
    }
   ],
   "source": [
    "display_recommendations(3)"
   ]
  },
  {
   "cell_type": "code",
   "execution_count": 7,
   "id": "3b1bceaf",
   "metadata": {},
   "outputs": [
    {
     "name": "stdout",
     "output_type": "stream",
     "text": [
      "Please type a short description of your movie preferences:\n",
      "Horror movies with a romantic theme.\n",
      "\n",
      "Recommendation  1: The Haunted,                     Score: 0.053\n",
      "Recommendation  2: Targets,                         Score: 0.032\n",
      "Recommendation  3: I vitelloni,                     Score: 0.03\n",
      "Recommendation  4: Bowling for Columbine,           Score: 0.022\n",
      "Recommendation  5: I tre volti della paura,         Score: 0.021\n"
     ]
    }
   ],
   "source": [
    "display_recommendations()"
   ]
  },
  {
   "cell_type": "markdown",
   "id": "028d6ee1",
   "metadata": {},
   "source": [
    "# My salary expectation per month is around $2,000"
   ]
  }
 ],
 "metadata": {
  "kernelspec": {
   "display_name": "lumaa",
   "language": "python",
   "name": "lumaa"
  },
  "language_info": {
   "codemirror_mode": {
    "name": "ipython",
    "version": 3
   },
   "file_extension": ".py",
   "mimetype": "text/x-python",
   "name": "python",
   "nbconvert_exporter": "python",
   "pygments_lexer": "ipython3",
   "version": "3.13.2"
  }
 },
 "nbformat": 4,
 "nbformat_minor": 5
}
